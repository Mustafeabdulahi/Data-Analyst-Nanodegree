{
 "cells": [
  {
   "cell_type": "markdown",
   "id": "3a5d93f6",
   "metadata": {},
   "source": [
    "# Udacity Data Analyst Nanodegree\n",
    "This is a project work I did for the Udacity Data Analyst Nanodegree\n",
    "In this Nanodegree Program we're using Python, SQL, and statistics to uncover insights, communicate critical findings, and create data-driven solutions.\n",
    "\n",
    "I took a part of the Udacity Data Analyst program (2022), and documented my projects in this Repo which contains the all the projects I did in the course. In these course, I worked with messy, complex datasets and learned how to Manipulate and prepare datasets for analysis, and create visualizations for data exploration and gained skills to tell a story with data."
   ]
  },
  {
   "cell_type": "code",
   "execution_count": null,
   "id": "f6b7b7fc",
   "metadata": {},
   "outputs": [],
   "source": []
  }
 ],
 "metadata": {
  "kernelspec": {
   "display_name": "Python 3 (ipykernel)",
   "language": "python",
   "name": "python3"
  },
  "language_info": {
   "codemirror_mode": {
    "name": "ipython",
    "version": 3
   },
   "file_extension": ".py",
   "mimetype": "text/x-python",
   "name": "python",
   "nbconvert_exporter": "python",
   "pygments_lexer": "ipython3",
   "version": "3.9.13"
  }
 },
 "nbformat": 4,
 "nbformat_minor": 5
}
