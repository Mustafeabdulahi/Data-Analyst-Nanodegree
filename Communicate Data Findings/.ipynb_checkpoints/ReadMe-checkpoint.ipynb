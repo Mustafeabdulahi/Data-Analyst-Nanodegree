{
 "cells": [
  {
   "cell_type": "markdown",
   "id": "b97f0e2b",
   "metadata": {},
   "source": [
    "# Communicate Data Finding\n",
    "\n",
    "Objective of this project was to learn data visualization principles using python visualization tools and apply it to our data Analysis process. \n",
    "\n",
    "\n",
    "The project two parts: has two parts that demonstrate the importance and value of data visualization techniques in the data analysis process.\n",
    "\n",
    "# Part I, Exploratory data visualization\n",
    "I used Python visualization libraries to explore the dataset and understand its features and relationships between variables by creating plots of single variables and building up to plots of multiple variables.\n",
    "\n",
    "# Part II, Explanatory data visualization \n",
    "I Created a short presentation that demonstrates the relationships between the different features in the dataset by transforming my exploratory visualizations from the first part into polished, explanatory visualizations of.\n",
    "\n",
    "\n",
    "# Ford GoBike System Data: \n",
    "Is the data is the data I used in this project. The dataset contains information about individual rides made in a bike-sharing system covering the greater San Francisco Bay area.\n",
    "\n",
    "## Required libraries\n",
    "\n",
    "```Python\n",
    "* NumPy\n",
    "* pandas\n",
    "* Matplotlib\n",
    "* Seaborn\n",
    "```\n",
    "    \n",
    "\n",
    "# Skills Learned\n",
    "- Supplement statistics with visualizations to build understanding of data.\n",
    "- How to select appropriate plots, limits, transformations, and aesthetics to explore a dataset, allowing you to understand distributions of variables and relationships between features.\n",
    "- Use design principles to create effective visualizations for communicating findings to an audience."
   ]
  },
  {
   "cell_type": "code",
   "execution_count": null,
   "id": "e9b9dee9",
   "metadata": {},
   "outputs": [],
   "source": []
  }
 ],
 "metadata": {
  "kernelspec": {
   "display_name": "Python 3 (ipykernel)",
   "language": "python",
   "name": "python3"
  },
  "language_info": {
   "codemirror_mode": {
    "name": "ipython",
    "version": 3
   },
   "file_extension": ".py",
   "mimetype": "text/x-python",
   "name": "python",
   "nbconvert_exporter": "python",
   "pygments_lexer": "ipython3",
   "version": "3.9.13"
  }
 },
 "nbformat": 4,
 "nbformat_minor": 5
}
