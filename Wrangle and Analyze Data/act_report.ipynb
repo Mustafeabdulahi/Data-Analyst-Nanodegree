{
 "cells": [
  {
   "cell_type": "markdown",
   "metadata": {},
   "source": [
    "## WeRateDogs Data Analysis Project Insights"
   ]
  },
  {
   "cell_type": "markdown",
   "metadata": {},
   "source": [
    "### Introduction\n",
    "   WeRateDogs is a Twitter account that rates people's dogs with a humorous comment about the dog. These ratings almost always have a denominator of 10. The numerators, though? Almost always greater than 10. 11/10, 12/10, 13/10, etc. the account was started in 2015 and has attracted 9.3 million+ followers. As part of the Udacity Data Analyst course which I am currently taking, we have tastked to explore the tweet archive of Twitter user @dog_rates data, also known as WeRateDogs. our main goal was to drive insights and create interesting visualizations that are trustworth analysis. so I have analyzed and investigated two research questions.\n",
    "   \n",
    "1. Which dog name is the most popular/common?\n",
    "\n",
    "![](dog_name.png)\n",
    "\n",
    "After gethering, assesing, and cleaning the data, a bar graph visualization of the data showed that the most popular common dog name in this dataset is Charlie and Lucy with eleven dogs each sharing the name. \n",
    "\n",
    "\n",
    "\n",
    "2. Which dogs stages are most popular in our dataset?\n",
    "![](dog_stage.png)\n",
    "\n",
    "This bar plot visualization shows that that over 80% of tweets don't give dog stage information in their tweets, but for those the who provided the dog stage information the `Pupper` is most common dog stage."
   ]
  },
  {
   "cell_type": "code",
   "execution_count": null,
   "metadata": {},
   "outputs": [],
   "source": []
  }
 ],
 "metadata": {
  "kernelspec": {
   "display_name": "Python 3",
   "language": "python",
   "name": "python3"
  },
  "language_info": {
   "codemirror_mode": {
    "name": "ipython",
    "version": 3
   },
   "file_extension": ".py",
   "mimetype": "text/x-python",
   "name": "python",
   "nbconvert_exporter": "python",
   "pygments_lexer": "ipython3",
   "version": "3.6.3"
  }
 },
 "nbformat": 4,
 "nbformat_minor": 2
}
