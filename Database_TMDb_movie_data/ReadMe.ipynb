{
 "cells": [
  {
   "cell_type": "markdown",
   "id": "5e3c939a",
   "metadata": {},
   "source": [
    "# Investigate a Dataset\n",
    "\n",
    "In this project, My task was to choose a data from Udacity curated datasets, analyze the data, and then communicate and share my findings about the data.\n",
    "\n",
    "\n",
    "# TMDb movie data\n",
    "I choose to analyze TMDb dataset which contains information\n",
    "about 5000 movies collected from\n",
    "The Movie Database (TMDb),\n",
    "including user ratings and revenue found in [here](https://www.kaggle.com/datasets/tmdb/tmdb-movie-metadata).\n",
    "## Installation\n",
    "\n",
    "Install required libraries\n",
    "\n",
    "```python\n",
    "* pandas\n",
    "* NumPy\n",
    "* Matplotlib\n",
    "* csv\n",
    "```\n",
    "    \n",
    "\n",
    "# Skills Aquired\n",
    "- Learned all the steps involved in a typical data analysis process\n",
    "- learned how to investigate problems in a dataset and wrangle the data into a format you can use\n",
    "- how to communicating the results of my analysis\n",
    "- learned how to use Matplotlib to produce plots showing my findings"
   ]
  },
  {
   "cell_type": "markdown",
   "id": "8f8ebbd8",
   "metadata": {},
   "source": [
    "# Viz Snapchat\n",
    "![](movie_per_month.png)\n",
    "![](movie_year.png)"
   ]
  },
  {
   "cell_type": "code",
   "execution_count": null,
   "id": "bb05c7c4",
   "metadata": {},
   "outputs": [],
   "source": []
  }
 ],
 "metadata": {
  "kernelspec": {
   "display_name": "Python 3 (ipykernel)",
   "language": "python",
   "name": "python3"
  },
  "language_info": {
   "codemirror_mode": {
    "name": "ipython",
    "version": 3
   },
   "file_extension": ".py",
   "mimetype": "text/x-python",
   "name": "python",
   "nbconvert_exporter": "python",
   "pygments_lexer": "ipython3",
   "version": "3.9.13"
  }
 },
 "nbformat": 4,
 "nbformat_minor": 5
}
